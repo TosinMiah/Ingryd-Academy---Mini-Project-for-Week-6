{
 "cells": [
  {
   "cell_type": "markdown",
   "id": "75a21287",
   "metadata": {},
   "source": [
    "# Mini Project for Week 6"
   ]
  },
  {
   "cell_type": "markdown",
   "id": "4d2d84f5",
   "metadata": {},
   "source": [
    "## Project 1: Air traffic control simulation"
   ]
  },
  {
   "cell_type": "code",
   "execution_count": null,
   "id": "b5c722ab",
   "metadata": {},
   "outputs": [],
   "source": [
    "\"\"\"\n",
    "Problem:\n",
    "Imagine you're an air traffic controller during a busy day at the airport. Due to an emergency, some flights need to make an \n",
    "emergency landing. Design a system that prioritizes these emergency landings over regular scheduled flights. Develop a program \n",
    "that takes flight details, including emergency status, and manages the landing queue efficiently.\n",
    "Expected Output:\n",
    "Display the sequence of servicing emergency landing flights and scheduled flights\n",
    "Objectives:\n",
    "1. Design classes to manage flights and prioritize emergency situations.\n",
    "2. Practice working with queues to manage the order of operations.\n",
    "3. Understand the importance of prioritization in real-time systems.\n",
    "4. Gain experience in managing and servicing tasks based on urgency.\n",
    "\"\"\""
   ]
  },
  {
   "cell_type": "code",
   "execution_count": null,
   "id": "759a5836",
   "metadata": {},
   "outputs": [],
   "source": [
    "\"\"\"\n",
    "Algorithm:\n",
    "1. Create a class called Flight to represent individual flights.\n",
    "   Include attributes such as flight number, airline, scheduled departure time, emergency status (boolean), and any other \n",
    "   relevant details.\n",
    "2. Use a priority queue to manage the order of operations. In Python, you can use the queue.PriorityQueue class for this purpose.\n",
    "3. Define a custom comparison function to prioritize emergency landings over regular flights based on their emergency status.\n",
    "4. Allow the program to take input for flight details, including flight number, airline, scheduled departure time, and emergency status.\n",
    "5. Create instances of the Flight class for each flight and add them to the priority queue.\n",
    "6. Continuously check the priority queue to determine which flight to service next.\n",
    "7. If an emergency landing is the highest priority (based on the custom comparison function), service it immediately.\n",
    "8. If there are no emergency landings in the queue, service the next scheduled flight.\n",
    "9. Display the sequence of servicing flights, including both emergency landings and scheduled flights, as they are processed.\n",
    "\"\"\""
   ]
  },
  {
   "cell_type": "code",
   "execution_count": 2,
   "id": "874b25d4",
   "metadata": {},
   "outputs": [
    {
     "name": "stdout",
     "output_type": "stream",
     "text": [
      "Servicing Flight LH101 (Lufthansa)\n",
      "Servicing Flight QR610 (Qatar Airways)\n",
      "Servicing Flight ET442 (Ethiopian Airlines)\n",
      "Servicing Flight SA810 (South African Airways)\n",
      "Servicing Flight EK235 (Emirates)\n",
      "Servicing Flight AF502 (Air France)\n",
      "Servicing Flight BA123 (British Airways)\n",
      "Servicing Flight TK789 (Turkish Airlines)\n",
      "Servicing Flight KQ701 (Kenya Airways)\n",
      "Servicing Flight AZ376 (Alitalia)\n"
     ]
    }
   ],
   "source": [
    "import queue\n",
    "\n",
    "class Flight:\n",
    "    def __init__(self, flight_number, airline, departure_time, is_emergency):\n",
    "        self.flight_number = flight_number\n",
    "        self.airline = airline\n",
    "        self.departure_time = departure_time\n",
    "        self.is_emergency = is_emergency\n",
    "\n",
    "    def __lt__(self, other):\n",
    "        # Custom comparison for PriorityQueue\n",
    "        if self.is_emergency and not other.is_emergency:\n",
    "            return True\n",
    "        elif not self.is_emergency and other.is_emergency:\n",
    "            return False\n",
    "        else:\n",
    "            return self.departure_time < other.departure_time\n",
    "\n",
    "# Create a PriorityQueue to manage flights\n",
    "landing_queue = queue.PriorityQueue()\n",
    "\n",
    "# Flights\n",
    "flight1 = Flight(\"LH101\", \"Lufthansa\", \"08:00\", True)\n",
    "flight2 = Flight(\"EK235\", \"Emirates\", \"08:30\", False)\n",
    "flight3 = Flight(\"AF502\", \"Air France\", \"09:00\", False)\n",
    "flight4 = Flight(\"QR610\", \"Qatar Airways\", \"09:30\", True)\n",
    "flight5 = Flight(\"BA123\", \"British Airways\", \"10:00\", False)\n",
    "flight6 = Flight(\"TK789\", \"Turkish Airlines\", \"10:30\", False)\n",
    "flight7 = Flight(\"ET442\", \"Ethiopian Airlines\", \"11:00\", True)\n",
    "flight8 = Flight(\"KQ701\", \"Kenya Airways\", \"11:30\", False)\n",
    "flight9 = Flight(\"SA810\", \"South African Airways\", \"12:00\", True)\n",
    "flight10 = Flight(\"AZ376\", \"Alitalia\", \"12:30\", False)\n",
    "\n",
    "# Add flights to the queue\n",
    "landing_queue.put(flight1)\n",
    "landing_queue.put(flight2)\n",
    "landing_queue.put(flight3)\n",
    "landing_queue.put(flight4)\n",
    "landing_queue.put(flight5)\n",
    "landing_queue.put(flight6)\n",
    "landing_queue.put(flight7)\n",
    "landing_queue.put(flight8)\n",
    "landing_queue.put(flight9)\n",
    "landing_queue.put(flight10)\n",
    "\n",
    "# Process and display the sequence of servicing flights\n",
    "while not landing_queue.empty():\n",
    "    next_flight = landing_queue.get()\n",
    "    print(f\"Servicing Flight {next_flight.flight_number} ({next_flight.airline})\")\n"
   ]
  },
  {
   "cell_type": "markdown",
   "id": "0a6dc547",
   "metadata": {},
   "source": [
    "# Project 2: File handling – word counter"
   ]
  },
  {
   "cell_type": "code",
   "execution_count": null,
   "id": "32bfbe39",
   "metadata": {},
   "outputs": [],
   "source": [
    "\"\"\"Problem: \n",
    "You are tasked with developing a plagiarism\n",
    "detection system for a school. Given a text file containing a student's essay and a set of reference files, you need to \n",
    "determine if any part of the essay is copied from the reference materials. Design a program that reads and compares the essay \n",
    "with the reference files to identify potential plagiarism instances. \n",
    "Expected Output:\n",
    "Display the frequency of each word in the provided text file.\n",
    "Objectives:\n",
    "1. Learn how to read and process data from text files using file handling.\n",
    "2. Practice tokenization of text into words for analysis.\n",
    "3. Understand the basics of counting and analyzing data frequencies.\n",
    "4. Gain experience in creating a simple text data analysis tool.\n",
    "\"\"\""
   ]
  },
  {
   "cell_type": "code",
   "execution_count": null,
   "id": "dc1e1e71",
   "metadata": {},
   "outputs": [],
   "source": [
    "\"\"\"\n",
    "Algorithm:\n",
    "1. The code starts by importing necessary libraries, re (for regular expressions) and defaultdict (from collections).\n",
    "2. A function called tokenize_text is defined to split a given text into individual words (tokens). It uses regular expressions \n",
    "   (re.findall) to identify word boundaries and extract words.\n",
    "3. The words are converted to lowercase to ensure case-insensitive comparison.\n",
    "4. Another function called count_word_frequencies is defined. This function takes a list of words as input and counts the \n",
    "   frequency of each word.\n",
    "5. It utilizes a defaultdict to create a dictionary (word_freq) where word frequencies are stored.\n",
    "6. The calculate_similarity function is designed to calculate the similarity percentage between two sets of word frequencies. \n",
    "   It takes two dictionaries (essay_freq and reference_freq) representing word frequencies as input. The function calculates \n",
    "   the percentage of similarity by finding common words between the two sets and dividing it by the total number of unique words in the essay.\n",
    "7. The code reads the content of the student's essay from a text file named 'student_essay.txt' using the open function. The \n",
    "   essay text is stored in the essay_text variable.\n",
    "8. The tokenize_text function is called to tokenize the essay_text into words, and the resulting list of words is stored in \n",
    "   essay_words. The count_word_frequencies function is then called to count the frequency of each word in essay_words, and the \n",
    "   result is stored in the essay_freq dictionary.\n",
    "9. A list named reference_files is defined, containing the file paths of reference files that you want to compare with. The code\n",
    "   then iterates through each reference file path in reference_files.\n",
    "10. For each reference file, the code reads its content and stores it in the ref_text variable. The tokenize_text function is \n",
    "    used to tokenize ref_text into words, and the result is stored in ref_words. Similar to the essay, the \n",
    "    count_word_frequencies function counts the word frequencies in ref_words, and the result is stored in the ref_freq \n",
    "    dictionary.\n",
    "11. The calculate_similarity function is called with the essay_freq and ref_freq dictionaries to calculate the similarity \n",
    "    percentage between the essay and the reference file.\n",
    "12. The code prints the similarity percentage, indicating how similar the essay is to each reference file. This process is \n",
    "    repeated for each reference file in the reference_files list.\n",
    "\"\"\""
   ]
  },
  {
   "cell_type": "code",
   "execution_count": 7,
   "id": "6ce224b2",
   "metadata": {},
   "outputs": [
    {
     "name": "stdout",
     "output_type": "stream",
     "text": [
      "Checking if 'A Summer Adventure' Essay is a copy of 'A Cultural Exploration', 'An Unforgettable Retreat', 'An Unforgettable Summer Journey'\n",
      " \n",
      "Similarity with C:/Users/Oluwatosin/Desktop/A Cultural Exploration.txt: 22.29%\n",
      "Similarity with C:/Users/Oluwatosin/Desktop/An Unforgettable Summer Retreat.txt: 39.76%\n",
      "Similarity with C:/Users/Oluwatosin/Desktop/An Unforgettable Summer Journey.txt: 60.24%\n"
     ]
    }
   ],
   "source": [
    "import re\n",
    "from collections import defaultdict\n",
    "\n",
    "def tokenize_text(text):\n",
    "    # Tokenize text into words using regular expressions\n",
    "    words = re.findall(r'\\b\\w+\\b', text.lower())\n",
    "    return words\n",
    "\n",
    "def count_word_frequencies(words):\n",
    "    # Count word frequencies using a defaultdict\n",
    "    word_freq = defaultdict(int)\n",
    "    for word in words:\n",
    "        word_freq[word] += 1\n",
    "    return word_freq\n",
    "\n",
    "def calculate_similarity(essay_freq, reference_freq):\n",
    "    # Calculate the percentage of similarity\n",
    "    common_words = set(essay_freq.keys()) & set(reference_freq.keys())\n",
    "    total_words = len(essay_freq)\n",
    "    similarity_percentage = (len(common_words) / total_words) * 100\n",
    "    return similarity_percentage\n",
    "\n",
    "# Read and process the student's essay\n",
    "with open(\"C:/Users/Oluwatosin/Desktop/A Summer Adventure.txt\", 'r') as essay_file:\n",
    "    essay_text = essay_file.read()\n",
    "essay_words = tokenize_text(essay_text)\n",
    "essay_freq = count_word_frequencies(essay_words)\n",
    "print(\"Checking if 'A Summer Adventure' Essay is a copy of 'A Cultural Exploration', 'An Unforgettable Retreat', 'An Unforgettable Summer Journey'\")\n",
    "print(\" \")\n",
    "# Compare with reference files\n",
    "reference_files = reference_files = [\"C:/Users/Oluwatosin/Desktop/A Cultural Exploration.txt\", \"C:/Users/Oluwatosin/Desktop/An Unforgettable Summer Retreat.txt\", \"C:/Users/Oluwatosin/Desktop/An Unforgettable Summer Journey.txt\"]\n",
    "for ref_file in reference_files:\n",
    "    with open(ref_file, 'r') as reference_file:\n",
    "        ref_text = reference_file.read()\n",
    "    ref_words = tokenize_text(ref_text)\n",
    "    ref_freq = count_word_frequencies(ref_words)\n",
    "\n",
    "    similarity_percentage = calculate_similarity(essay_freq, ref_freq)\n",
    "    print(f\"Similarity with {ref_file}: {similarity_percentage:.2f}%\")\n"
   ]
  },
  {
   "cell_type": "code",
   "execution_count": null,
   "id": "0bc4d9be",
   "metadata": {},
   "outputs": [],
   "source": []
  }
 ],
 "metadata": {
  "kernelspec": {
   "display_name": "Python 3 (ipykernel)",
   "language": "python",
   "name": "python3"
  },
  "language_info": {
   "codemirror_mode": {
    "name": "ipython",
    "version": 3
   },
   "file_extension": ".py",
   "mimetype": "text/x-python",
   "name": "python",
   "nbconvert_exporter": "python",
   "pygments_lexer": "ipython3",
   "version": "3.11.3"
  }
 },
 "nbformat": 4,
 "nbformat_minor": 5
}
